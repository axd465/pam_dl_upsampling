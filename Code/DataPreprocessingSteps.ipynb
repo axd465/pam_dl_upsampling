{
 "cells": [
  {
   "cell_type": "markdown",
   "metadata": {
    "toc-hr-collapsed": true
   },
   "source": [
    "# Pre-Start Procedures"
   ]
  },
  {
   "cell_type": "markdown",
   "metadata": {
    "colab_type": "text",
    "id": "lSu55NMAg340"
   },
   "source": [
    "## Import Statements (Always Run)"
   ]
  },
  {
   "cell_type": "code",
   "execution_count": null,
   "metadata": {
    "colab": {
     "base_uri": "https://localhost:8080/",
     "height": 51
    },
    "colab_type": "code",
    "id": "phIROnd7F_JQ",
    "outputId": "7c4d194e-0170-49ee-9932-05c46eacbe94"
   },
   "outputs": [],
   "source": [
    "# customary imports:\n",
    "import os\n",
    "import re\n",
    "import datetime\n",
    "import shutil\n",
    "%matplotlib inline\n",
    "%load_ext autoreload\n",
    "%autoreload 2"
   ]
  },
  {
   "cell_type": "markdown",
   "metadata": {
    "colab_type": "text",
    "id": "lcyGPWatiZRx"
   },
   "source": [
    "## *If Running In Colab* - Sets Current Working Dir to Your Google Drive Folder"
   ]
  },
  {
   "cell_type": "code",
   "execution_count": null,
   "metadata": {
    "colab": {
     "base_uri": "https://localhost:8080/",
     "height": 34
    },
    "colab_type": "code",
    "id": "JzTqxwZUg346",
    "outputId": "85eee941-d05e-48ce-c77e-4882da6a76a5"
   },
   "outputs": [],
   "source": [
    "your_drive_dir = 'YourGoogleDriveDirectoryPath'\n",
    "os.chdir('/content/drive/' + your_drive_dir)\n",
    "print(\"Current Working Directory is : \" + os.getcwd())"
   ]
  },
  {
   "cell_type": "markdown",
   "metadata": {
    "toc-hr-collapsed": true
   },
   "source": [
    "# Data Preprocessing - Do not run if data folders already established or you want to download from online"
   ]
  },
  {
   "cell_type": "markdown",
   "metadata": {
    "colab_type": "text",
    "id": "aCtLTkWNg348"
   },
   "source": [
    "## Function to Convert .mat folder into Another File Format and Reject Unwanted Data"
   ]
  },
  {
   "cell_type": "code",
   "execution_count": 3,
   "metadata": {
    "colab": {},
    "colab_type": "code",
    "id": "KMrHcsnKg348"
   },
   "outputs": [],
   "source": [
    "# Import Statements\n",
    "from utils.data_preprocessing_utils import convert_MAP"
   ]
  },
  {
   "cell_type": "code",
   "execution_count": 6,
   "metadata": {
    "colab": {},
    "colab_type": "code",
    "id": "jBqTC1Lag34-"
   },
   "outputs": [
    {
     "name": "stdout",
     "output_type": "stream",
     "text": [
      "Starting Data Convertion / Automated Rejection...\n",
      "\n",
      "\n",
      "Ending Data Convertion / Automated Rejection\n"
     ]
    }
   ],
   "source": [
    "'''\n",
    "This function rejects data under specified size requirement and \n",
    "data that is noisy / has little valuable info (uses mean and std).\n",
    "This function can also perform contrast enhancement.\n",
    "'''\n",
    "raw_directory = os.path.join(os.getcwd(), 'raw_data')\n",
    "MIN_SHAPE = (128,128)\n",
    "ENDPOINT_FOLDER_NAME = 'converted_data'\n",
    "print('Starting Data Convertion / Automated Rejection...\\n')\n",
    "converted_dir = convert_MAP(raw_directory, ENDPOINT_FOLDER_NAME, MIN_SHAPE,\n",
    "                            file_format = '.tif', search_keys = ['map_532', 'map_all', 'DepMap_532', 'DepMap_all'],\n",
    "                            remove_noisy = True)\n",
    "print('\\nEnding Data Convertion / Automated Rejection')"
   ]
  },
  {
   "cell_type": "markdown",
   "metadata": {
    "colab_type": "text",
    "id": "8A0FOljWg35A"
   },
   "source": [
    "## Function to Process Data by Denoising and Increasing Contrast"
   ]
  },
  {
   "cell_type": "code",
   "execution_count": 4,
   "metadata": {},
   "outputs": [],
   "source": [
    "# Import Statements:\n",
    "from utils.data_preprocessing_utils import data_clean_func\n",
    "from utils.data_preprocessing_utils import data_cleaning"
   ]
  },
  {
   "cell_type": "code",
   "execution_count": 7,
   "metadata": {
    "colab": {},
    "colab_type": "code",
    "id": "bvOVi2Xkg35D"
   },
   "outputs": [
    {
     "name": "stdout",
     "output_type": "stream",
     "text": [
      "Starting Data Cleaning...\n",
      "Ending Data Cleaning\n"
     ]
    }
   ],
   "source": [
    "input_dir_name = 'converted_data'\n",
    "#dir_name = 'test_data'\n",
    "input_data_dir = os.path.join(os.getcwd(), input_dir_name)\n",
    "threshold = 0.90 #(10.0, 100.0)#0.90 # Percentiles\n",
    "contrast_enhance = False #True # False\n",
    "delete_previous = True\n",
    "print('Starting Data Cleaning...')\n",
    "data_cleaning(input_dir = input_data_dir, output_dir_name = 'cleaned_data',\n",
    "              output_file_format ='.tif', threshold = threshold, \n",
    "              contrast_enhance = contrast_enhance, delete_previous = delete_previous)\n",
    "print('Ending Data Cleaning')"
   ]
  },
  {
   "cell_type": "markdown",
   "metadata": {},
   "source": [
    "## Manual Data Rejection"
   ]
  },
  {
   "cell_type": "markdown",
   "metadata": {},
   "source": [
    "After initial data cleaning, we manually went through the images  \n",
    "and removed any that did not have clear vascular structures. "
   ]
  },
  {
   "cell_type": "code",
   "execution_count": 3,
   "metadata": {},
   "outputs": [],
   "source": [
    "# Import Statements:\n",
    "from utils.data_preprocessing_utils import transfer_files_except"
   ]
  },
  {
   "cell_type": "code",
   "execution_count": 4,
   "metadata": {},
   "outputs": [],
   "source": [
    "MANUAL_REMOVAL_LIST = ['reslt_OR_2 (30)_index0.tif', 'reslt_OR_2 (31)_index0.tif', 'reslt_OR_2 (34)_index0.tif', 'reslt_OR_2 (38)_index0.tif', \n",
    "                       'reslt_OR_3 (26)_index0.tif', 'reslt_OR_3 (31)_index0.tif', 'reslt_OR_3 (32)_index0.tif', 'reslt_OR_3 (33)_index0.tif',  \n",
    "                       'reslt_OR_4 (27)_index0.tif', 'reslt_OR_5 (19)_index0.tif', 'reslt_OR_5 (20)_index0.tif', 'reslt_OR_5 (23)_index0.tif', \n",
    "                       'reslt_OR_6 (14)_index0.tif', 'reslt_OR_6 (15)_index0.tif', 'reslt_OR_6 (18)_index0.tif', 'reslt_OR_6 (19)_index0.tif', \n",
    "                       'reslt_OR_7 (15)_index0.tif', 'reslt_OR_7 (17)_index0.tif', 'reslt_OR_7 (18)_index0.tif', 'reslt_OR_8 (13)_index0.tif', \n",
    "                       'reslt_OR_8 (17)_index0.tif', 'reslt_OR_2 (40)_index0.tif', 'reslt_OR_3 (25)_index0.tif', 'reslt_OR_4 (21)_index0.tif', \n",
    "                       'reslt_OR_4 (26)_index0.tif', 'reslt_OR_5 (24)_index0.tif', 'reslt_OR_5 (25)_index0.tif', 'reslt_OR_7 (11)_index0.tif', \n",
    "                       'reslt_OR_7 (14)_index0.tif', 'reslt_OR_8 (14)_index0.tif', 'reslt_OR_8 (16)_index0.tif']\n",
    "input_dir = 'cleaned_data'\n",
    "output_dir = 'combined_vessel_data'\n",
    "print('Starting Manual Rejection...')\n",
    "transfer_files_except(input_dir, output_dir, exception_list = MANUAL_REMOVAL_LIST)\n",
    "print('Ending Manual Rejection')"
   ]
  },
  {
   "cell_type": "code",
   "execution_count": null,
   "metadata": {},
   "outputs": [],
   "source": []
  }
 ],
 "metadata": {
  "accelerator": "GPU",
  "colab": {
   "collapsed_sections": [],
   "name": "BME590L-ML_Imaging-Final_Project_Code.ipynb",
   "provenance": [],
   "toc_visible": true
  },
  "kernelspec": {
   "display_name": "Python 3",
   "language": "python",
   "name": "python3"
  },
  "language_info": {
   "codemirror_mode": {
    "name": "ipython",
    "version": 3
   },
   "file_extension": ".py",
   "mimetype": "text/x-python",
   "name": "python",
   "nbconvert_exporter": "python",
   "pygments_lexer": "ipython3",
   "version": "3.7.9"
  },
  "toc-showtags": false,
  "widgets": {
   "application/vnd.jupyter.widget-state+json": {
    "state": {},
    "version_major": 2,
    "version_minor": 0
   }
  }
 },
 "nbformat": 4,
 "nbformat_minor": 4
}
